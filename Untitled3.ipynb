{
  "nbformat": 4,
  "nbformat_minor": 0,
  "metadata": {
    "colab": {
      "provenance": []
    },
    "kernelspec": {
      "name": "python3",
      "display_name": "Python 3"
    },
    "language_info": {
      "name": "python"
    }
  },
  "cells": [
    {
      "cell_type": "code",
      "execution_count": 15,
      "metadata": {
        "colab": {
          "base_uri": "https://localhost:8080/"
        },
        "id": "t82Pi7_HE4Ig",
        "outputId": "b62453c1-7dc6-4e5a-8d5c-a1c8676b48df"
      },
      "outputs": [
        {
          "output_type": "stream",
          "name": "stdout",
          "text": [
            "\n",
            "你想要查詢什麼?(藥方名稱/出典/處方/效能/適應症/退出查詢):藥方名稱\n",
            "吳茱萸湯《湯》\n"
          ]
        }
      ],
      "source": [
        "#定義吳茱萸湯的資料\n",
        "prescription={\n",
        "  '名稱':'吳茱萸湯《湯》',\n",
        "  '出典':'傷寒論',\n",
        "  '處方':{\n",
        "      '吳茱萸':7.5,#公克\n",
        "      '人參':4.5,\n",
        "      '生薑':9,\n",
        "      '大棗':6\n",
        "  },\n",
        "  '效能':'溫中補虛、降逆止嘔。',\n",
        "  '適應症':['脾胃虛寒','食穀欲嘔','吐利煩躁','手足厥冷','乾嘔吐涎頭痛。']\n",
        "}\n",
        "while True:\n",
        " query=input(\"\\n你想要查詢什麼?(藥方名稱/出典/處方/效能/適應症/退出查詢):\")\n",
        " if query==\"藥方名稱\":\n",
        "  print(f\"{prescription['名稱']}\")\n",
        " elif query==\"出典\":\n",
        "  print(f\"{prescription['名稱']}的出典為:{prescription['出典']}\")\n",
        " elif query == \"適應症\":\n",
        "  print(f\"{prescription['名稱']}的適應症有:\")\n",
        "  for symptom in prescription['適應症']:\n",
        "    print(symptom)\n",
        " elif query == \"處方\":\n",
        "  total_weight = sum(prescription['處方'].values())\n",
        "  print(f\"{prescription['名稱']}的處方為:\")\n",
        "  for medicine, weight in prescription['處方'].items():\n",
        "    print(f\"{medicine}:{weight}公克\")\n",
        "  print(f\"總克數為：{total_weight}公克\")\n",
        " elif query == \"效能\":\n",
        "  print(f\"{prescription['名稱']}的效能是:{prescription['效能']}\")\n",
        " elif query == \"退出查詢\":\n",
        "  print(\"感謝使用，再見！\")\n",
        " break\n",
        "else:\n",
        "  print(\"輸入無效，請重新輸入。\")\n"
      ]
    }
  ]
}